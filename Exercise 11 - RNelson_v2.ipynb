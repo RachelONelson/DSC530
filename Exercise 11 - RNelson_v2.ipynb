{
 "cells": [
  {
   "cell_type": "markdown",
   "metadata": {},
   "source": [
    "# Exercises 11-1, 11-3 and 11-4 Regression\n",
    "author: Rachel Nelson\n",
    "\n",
    "date: 10/31/2020\n",
    "\n",
    "class: DSC530-T303 Data Exploration and Analysis (2211-1)"
   ]
  },
  {
   "cell_type": "markdown",
   "metadata": {},
   "source": [
    "## Exercises"
   ]
  },
  {
   "cell_type": "markdown",
   "metadata": {},
   "source": [
    "**Exercise:** Suppose one of your co-workers is expecting a baby and you are participating in an office pool to\n",
    "predict the date of birth. Assuming that bets are placed during the 30th week of pregnancy, what variables could you\n",
    "use to make the best prediction? You should limit yourself to variables that are known before the birth, and likely to\n",
    "be available to the people in the pool."
   ]
  },
  {
   "cell_type": "code",
   "execution_count": 1,
   "metadata": {
    "pycharm": {
     "name": "#%% import all packages\n"
    }
   },
   "outputs": [],
   "source": [
    "import numpy as np\n",
    "import pandas as pd\n",
    "import thinkplot\n",
    "import thinkstats2\n",
    "import first\n",
    "import statsmodels.formula.api as smf\n",
    "import nsfg\n",
    "import regression\n",
    "import timeseries\n"
   ]
  },
  {
   "cell_type": "code",
   "execution_count": 2,
   "metadata": {},
   "outputs": [
    {
     "data": {
      "text/plain": "<class 'statsmodels.iolib.summary.Summary'>\n\"\"\"\n                            OLS Regression Results                            \n==============================================================================\nDep. Variable:               prglngth   R-squared:                       0.011\nModel:                            OLS   Adj. R-squared:                  0.011\nMethod:                 Least Squares   F-statistic:                     34.28\nDate:                Sun, 01 Nov 2020   Prob (F-statistic):           5.09e-22\nTime:                        16:30:01   Log-Likelihood:                -18247.\nNo. Observations:                8884   AIC:                         3.650e+04\nDf Residuals:                    8880   BIC:                         3.653e+04\nDf Model:                           3                                         \nCovariance Type:            nonrobust                                         \n=========================================================================================\n                            coef    std err          t      P>|t|      [0.025      0.975]\n-----------------------------------------------------------------------------------------\nIntercept                38.7617      0.039   1006.410      0.000      38.686      38.837\nbirthord == 1[T.True]     0.1015      0.040      2.528      0.011       0.023       0.180\nrace == 2[T.True]         0.1390      0.042      3.311      0.001       0.057       0.221\nnbrnaliv > 1[T.True]     -1.4944      0.164     -9.086      0.000      -1.817      -1.172\n==============================================================================\nOmnibus:                     1587.470   Durbin-Watson:                   1.619\nProb(Omnibus):                  0.000   Jarque-Bera (JB):             6160.751\nSkew:                          -0.852   Prob(JB):                         0.00\nKurtosis:                       6.707   Cond. No.                         10.9\n==============================================================================\n\nWarnings:\n[1] Standard Errors assume that the covariance matrix of the errors is correctly specified.\n\"\"\"",
      "text/html": "<table class=\"simpletable\">\n<caption>OLS Regression Results</caption>\n<tr>\n  <th>Dep. Variable:</th>        <td>prglngth</td>     <th>  R-squared:         </th> <td>   0.011</td> \n</tr>\n<tr>\n  <th>Model:</th>                   <td>OLS</td>       <th>  Adj. R-squared:    </th> <td>   0.011</td> \n</tr>\n<tr>\n  <th>Method:</th>             <td>Least Squares</td>  <th>  F-statistic:       </th> <td>   34.28</td> \n</tr>\n<tr>\n  <th>Date:</th>             <td>Sun, 01 Nov 2020</td> <th>  Prob (F-statistic):</th> <td>5.09e-22</td> \n</tr>\n<tr>\n  <th>Time:</th>                 <td>16:30:01</td>     <th>  Log-Likelihood:    </th> <td> -18247.</td> \n</tr>\n<tr>\n  <th>No. Observations:</th>      <td>  8884</td>      <th>  AIC:               </th> <td>3.650e+04</td>\n</tr>\n<tr>\n  <th>Df Residuals:</th>          <td>  8880</td>      <th>  BIC:               </th> <td>3.653e+04</td>\n</tr>\n<tr>\n  <th>Df Model:</th>              <td>     3</td>      <th>                     </th>     <td> </td>    \n</tr>\n<tr>\n  <th>Covariance Type:</th>      <td>nonrobust</td>    <th>                     </th>     <td> </td>    \n</tr>\n</table>\n<table class=\"simpletable\">\n<tr>\n            <td></td>               <th>coef</th>     <th>std err</th>      <th>t</th>      <th>P>|t|</th>  <th>[0.025</th>    <th>0.975]</th>  \n</tr>\n<tr>\n  <th>Intercept</th>             <td>   38.7617</td> <td>    0.039</td> <td> 1006.410</td> <td> 0.000</td> <td>   38.686</td> <td>   38.837</td>\n</tr>\n<tr>\n  <th>birthord == 1[T.True]</th> <td>    0.1015</td> <td>    0.040</td> <td>    2.528</td> <td> 0.011</td> <td>    0.023</td> <td>    0.180</td>\n</tr>\n<tr>\n  <th>race == 2[T.True]</th>     <td>    0.1390</td> <td>    0.042</td> <td>    3.311</td> <td> 0.001</td> <td>    0.057</td> <td>    0.221</td>\n</tr>\n<tr>\n  <th>nbrnaliv > 1[T.True]</th>  <td>   -1.4944</td> <td>    0.164</td> <td>   -9.086</td> <td> 0.000</td> <td>   -1.817</td> <td>   -1.172</td>\n</tr>\n</table>\n<table class=\"simpletable\">\n<tr>\n  <th>Omnibus:</th>       <td>1587.470</td> <th>  Durbin-Watson:     </th> <td>   1.619</td>\n</tr>\n<tr>\n  <th>Prob(Omnibus):</th>  <td> 0.000</td>  <th>  Jarque-Bera (JB):  </th> <td>6160.751</td>\n</tr>\n<tr>\n  <th>Skew:</th>           <td>-0.852</td>  <th>  Prob(JB):          </th> <td>    0.00</td>\n</tr>\n<tr>\n  <th>Kurtosis:</th>       <td> 6.707</td>  <th>  Cond. No.          </th> <td>    10.9</td>\n</tr>\n</table><br/><br/>Warnings:<br/>[1] Standard Errors assume that the covariance matrix of the errors is correctly specified."
     },
     "execution_count": 2,
     "metadata": {},
     "output_type": "execute_result"
    }
   ],
   "source": [
    "live, firsts, others = first.MakeFrames()\n",
    "\n",
    "# pregnancy lenght greater than 30\n",
    "live = live[live.prglngth>30]\n",
    "\n",
    "# Below are the variables that would impact the pregnancy length\n",
    "model = smf.ols('prglngth ~ birthord==1 + race==2 + nbrnaliv>1', data=live)\n",
    "results = model.fit()\n",
    "results.summary()"
   ]
  },
  {
   "cell_type": "code",
   "execution_count": null,
   "outputs": [],
   "source": [],
   "metadata": {
    "collapsed": false,
    "pycharm": {
     "name": "#%%\n"
    }
   }
  },
  {
   "cell_type": "markdown",
   "metadata": {
    "pycharm": {
     "name": "#%% md\n"
    }
   },
   "source": [
    "I am running a correlation matrix to see which variables are correlated to birth length based on live births > 30 weeks"
   ]
  },
  {
   "cell_type": "code",
   "execution_count": 3,
   "metadata": {
    "pycharm": {
     "name": "#%%\n"
    }
   },
   "outputs": [],
   "source": [
    "#Create a correlation matrix based on columns and pulled the top 5 correlated to pregnancy length\n",
    "df = pd.DataFrame(live,columns=['prglngth','pregordr','multbrth','wksgest','mosgest','babysex','babysex2','hpagelb','knewpreg','trimestr','priorsmk','postsmks','npostsmk','getprena','bgnprena','pnctrim','workpreg','workborn','didwork','matweeks','weeksdk','matleave','matchfound','stopduse','whystopd','whatmeth01','whatmeth02','whatmeth03','whatmeth04','resnouse','wantbold','probbabe','cnfrmno','timingok','toosoon_n','toosoon_p','wthpart1','wthpart2','feelinpg','hpwnold','timokhp','cohpbeg','cohpend','tellfath','whentell','tryscale','wantscal','whyprg1','whynouse1','whynouse2','whynouse3','anyusint','birthord','datend','agepreg','datecon','agecon','fmarout5','pmarpreg','rmarout6','fmarcon5','learnprg','pncarewk','paydeliv','lbw1','bfeedwks','maternlv','oldwantr','oldwantp','wantresp','wantpart','cmbirth','ager','agescrn','fmarital','rmarital','educat','hieduc','race','hispanic','hisprace','rcurpreg','pregnum','parity','insuranc','pubassis','poverty','laborfor','religion','metro','brnout','yrstrus','prglngth_i','datend_i','agepreg_i','datecon_i','agecon_i','fmarout5_i','pmarpreg_i','rmarout6_i','fmarcon5_i','learnprg_i','pncarewk_i','paydeliv_i','lbw1_i','bfeedwks_i','maternlv_i','oldwantr_i','oldwantp_i','wantresp_i','wantpart_i','hieduc_i','hispanic_i','hisprace_i','parity_i','poverty_i','laborfor_i',  'sest'])\n",
    "corrMatrix = df.corr()\n",
    "corrMatrix = corrMatrix.sort_values(by=['prglngth'], ascending=True)\n",
    "corrMatrix.to_csv(r'PregCorrMatrix.csv', index = True)\n",
    "\n",
    "\n"
   ]
  },
  {
   "cell_type": "markdown",
   "metadata": {},
   "source": [
    "Found the top values correlated to pregnancy length after reviewing for any values that were not likely to be known prior to birth:\n",
    "* whatmeth04\t-0.507394663\n",
    "* whynouse3\t-0.331744401\n",
    "* multbrth\t0.418335713\n",
    "* pnctrim\t0.457939666\n",
    "* weeksdk\t0.552054629"
   ]
  },
  {
   "cell_type": "markdown",
   "metadata": {},
   "source": [
    "the best indicator i could find that would work in the formula was if it was a multibirth, which i added to the formula"
   ]
  },
  {
   "cell_type": "markdown",
   "metadata": {},
   "source": [
    "**Exercise 11.3:** If the quantity you want to predict is a count, you can use Poisson regression, which is implemented in\n",
    "StatsModels with a function called `poisson`. It works the same way as `ols` and `logit`. As an exercise, let’s use it\n",
    "to predict how many children a woman has born; in the NSFG dataset, this variable is called `numbabes`.\n",
    "\n",
    "Suppose you meet a woman who is 35 years old, black, and a college graduate whose annual household income exceeds\n",
    "$75,000. How many children would you predict she has born?"
   ]
  },
  {
   "cell_type": "code",
   "execution_count": 4,
   "metadata": {
    "pycharm": {
     "name": "#%%\n"
    }
   },
   "outputs": [],
   "source": [
    "live, firsts, others = first.MakeFrames()\n",
    "live = live[live.prglngth>30]\n",
    "resp = nsfg.ReadFemResp()\n",
    "resp.index = resp.caseid\n",
    "\n",
    "# join tables using caseid\n",
    "join = live.join(resp, on='caseid', rsuffix='_r')\n",
    "\n",
    "# replace with NaN in numbabes column\n",
    "join.numbabes.replace([97], np.nan, inplace=True)    \n",
    "join['age2'] = join.age_r**2    "
   ]
  },
  {
   "cell_type": "code",
   "execution_count": 5,
   "metadata": {
    "pycharm": {
     "name": "#%%\n"
    }
   },
   "outputs": [
    {
     "name": "stdout",
     "output_type": "stream",
     "text": [
      "Optimization terminated successfully.\n",
      "         Current function value: 1.677002\n",
      "         Iterations 7\n"
     ]
    },
    {
     "data": {
      "text/plain": "<class 'statsmodels.iolib.summary.Summary'>\n\"\"\"\n                          Poisson Regression Results                          \n==============================================================================\nDep. Variable:               numbabes   No. Observations:                 8884\nModel:                        Poisson   Df Residuals:                     8877\nMethod:                           MLE   Df Model:                            6\nDate:                Sun, 01 Nov 2020   Pseudo R-squ.:                 0.03686\nTime:                        17:07:30   Log-Likelihood:                -14898.\nconverged:                       True   LL-Null:                       -15469.\nCovariance Type:            nonrobust   LLR p-value:                3.681e-243\n================================================================================\n                   coef    std err          z      P>|z|      [0.025      0.975]\n--------------------------------------------------------------------------------\nIntercept       -1.0324      0.169     -6.098      0.000      -1.364      -0.701\nC(race)[T.2]    -0.1401      0.015     -9.479      0.000      -0.169      -0.111\nC(race)[T.3]    -0.0991      0.025     -4.029      0.000      -0.147      -0.051\nage_r            0.1556      0.010     15.006      0.000       0.135       0.176\nage2            -0.0020      0.000    -13.102      0.000      -0.002      -0.002\ntotincr         -0.0187      0.002     -9.830      0.000      -0.022      -0.015\neducat          -0.0471      0.003    -16.076      0.000      -0.053      -0.041\n================================================================================\n\"\"\"",
      "text/html": "<table class=\"simpletable\">\n<caption>Poisson Regression Results</caption>\n<tr>\n  <th>Dep. Variable:</th>       <td>numbabes</td>     <th>  No. Observations:  </th>   <td>  8884</td>  \n</tr>\n<tr>\n  <th>Model:</th>                <td>Poisson</td>     <th>  Df Residuals:      </th>   <td>  8877</td>  \n</tr>\n<tr>\n  <th>Method:</th>                 <td>MLE</td>       <th>  Df Model:          </th>   <td>     6</td>  \n</tr>\n<tr>\n  <th>Date:</th>            <td>Sun, 01 Nov 2020</td> <th>  Pseudo R-squ.:     </th>   <td>0.03686</td> \n</tr>\n<tr>\n  <th>Time:</th>                <td>17:07:30</td>     <th>  Log-Likelihood:    </th>  <td> -14898.</td> \n</tr>\n<tr>\n  <th>converged:</th>             <td>True</td>       <th>  LL-Null:           </th>  <td> -15469.</td> \n</tr>\n<tr>\n  <th>Covariance Type:</th>     <td>nonrobust</td>    <th>  LLR p-value:       </th> <td>3.681e-243</td>\n</tr>\n</table>\n<table class=\"simpletable\">\n<tr>\n        <td></td>          <th>coef</th>     <th>std err</th>      <th>z</th>      <th>P>|z|</th>  <th>[0.025</th>    <th>0.975]</th>  \n</tr>\n<tr>\n  <th>Intercept</th>    <td>   -1.0324</td> <td>    0.169</td> <td>   -6.098</td> <td> 0.000</td> <td>   -1.364</td> <td>   -0.701</td>\n</tr>\n<tr>\n  <th>C(race)[T.2]</th> <td>   -0.1401</td> <td>    0.015</td> <td>   -9.479</td> <td> 0.000</td> <td>   -0.169</td> <td>   -0.111</td>\n</tr>\n<tr>\n  <th>C(race)[T.3]</th> <td>   -0.0991</td> <td>    0.025</td> <td>   -4.029</td> <td> 0.000</td> <td>   -0.147</td> <td>   -0.051</td>\n</tr>\n<tr>\n  <th>age_r</th>        <td>    0.1556</td> <td>    0.010</td> <td>   15.006</td> <td> 0.000</td> <td>    0.135</td> <td>    0.176</td>\n</tr>\n<tr>\n  <th>age2</th>         <td>   -0.0020</td> <td>    0.000</td> <td>  -13.102</td> <td> 0.000</td> <td>   -0.002</td> <td>   -0.002</td>\n</tr>\n<tr>\n  <th>totincr</th>      <td>   -0.0187</td> <td>    0.002</td> <td>   -9.830</td> <td> 0.000</td> <td>   -0.022</td> <td>   -0.015</td>\n</tr>\n<tr>\n  <th>educat</th>       <td>   -0.0471</td> <td>    0.003</td> <td>  -16.076</td> <td> 0.000</td> <td>   -0.053</td> <td>   -0.041</td>\n</tr>\n</table>"
     },
     "execution_count": 5,
     "metadata": {},
     "output_type": "execute_result"
    }
   ],
   "source": [
    "formula='numbabes ~ age_r + age2 + C(race) + totincr + educat'\n",
    "\n",
    "# poisson regression\n",
    "model = smf.poisson(formula, data=join).fit()       \n",
    "model.summary() "
   ]
  },
  {
   "cell_type": "markdown",
   "metadata": {},
   "source": [
    "Now we can predict the number of children for a woman who is 35 years old, black, and a college\n",
    "graduate whose annual household income exceeds $75,000"
   ]
  },
  {
   "cell_type": "code",
   "execution_count": 6,
   "metadata": {
    "pycharm": {
     "name": "#%%\n"
    }
   },
   "outputs": [
    {
     "data": {
      "text/plain": "0    2.496802\ndtype: float64"
     },
     "execution_count": 6,
     "metadata": {},
     "output_type": "execute_result"
    }
   ],
   "source": [
    "# Suppose you meet a who is 35 years old, black, and a college graduate whose annual household income exceeds $75,000.\n",
    "# How many children would you predict she has born?\n",
    "\n",
    "columns = ['age_r', 'age2', 'age3', 'race', 'totincr', 'educat']  \n",
    "\n",
    "# age_r=35, age2=35**2, age3=35**3, race=1 (black), totincr=14(range of income), educat=16(graduate)\n",
    "new = pd.DataFrame([[35, 35**2, 35**3, 1, 14, 16]], columns=columns) \n",
    "\n",
    "\"\"\"Pedicted number of children is 2 to 3.\"\"\"\n",
    "model.predict(new)"
   ]
  },
  {
   "cell_type": "markdown",
   "metadata": {},
   "source": [
    "**Exercise 11.4:** If the quantity you want to predict is categorical, you can use multinomial logistic regression,\n",
    "which is implemented in StatsModels with a function called `mnlogit`. As an exercise, let’s use it to guess whether\n",
    "a woman is married, co-habitating, widowed, divorced, separated, or never married; in the NSFG dataset, marital status\n",
    "is encoded in a variable called `rmarital`.\n",
    "\n",
    "Suppose you meet a woman who is 25 years old, white, and a high school graduate whose annual household income is\n",
    "about $45,000. What is the probability that she is married, co-habitating, etc?"
   ]
  },
  {
   "cell_type": "code",
   "execution_count": null,
   "metadata": {
    "pycharm": {
     "is_executing": true
    }
   },
   "outputs": [],
   "source": [
    "live, firsts, others = first.MakeFrames()\n",
    "live = live[live.prglngth>30]\n",
    "resp = nsfg.ReadFemResp()\n",
    "resp.index = resp.caseid\n",
    "\n",
    "# join tables using caseid\n",
    "join = live.join(resp, on='caseid', rsuffix='_r')\n",
    "\n",
    "# replace with NaN in numbabes column\n",
    "join.numbabes.replace([97], np.nan, inplace=True)    \n",
    "join['age2'] = join.age_r**2   "
   ]
  },
  {
   "cell_type": "code",
   "execution_count": null,
   "metadata": {
    "pycharm": {
     "is_executing": true
    }
   },
   "outputs": [],
   "source": [
    "formula='rmarital ~ age_r + age2 + C(race) + totincr + educat'\n",
    "\n",
    "# multinomial logistic regression\n",
    "model = smf.mnlogit(formula, data=join).fit()       \n",
    "model.summary()  "
   ]
  },
  {
   "cell_type": "markdown",
   "metadata": {},
   "source": [
    "Make a prediction for a woman who is 25 years old, white, and a high\n",
    "school graduate whose annual household income is about $45,000."
   ]
  },
  {
   "cell_type": "code",
   "execution_count": null,
   "metadata": {
    "pycharm": {
     "name": "#%%\n"
    }
   },
   "outputs": [],
   "source": [
    "# Suppose you meet a woman who is 25 years old, white, and a high school graduate whose annual household income is about\n",
    "# $45,000. What is the probability that she is married, cohabitating, etc?\n",
    "\n",
    "columns = ['age_r', 'age2', 'race', 'totincr', 'educat']  \n",
    "\n",
    "# age_r=25, age2=25**2, race=2 (white), totincr=11(range of income), educat=12(school graduate)\n",
    "new = pd.DataFrame([[25, 25**2, 2, 11, 12]], columns=columns) \n",
    "\n",
    "model.predict(new)"
   ]
  },
  {
   "cell_type": "markdown",
   "metadata": {
    "pycharm": {
     "name": "#%% md\n"
    }
   },
   "source": [
    "*Probability that she is married is about 75% and 13% cohabitating. *"
   ]
  }
 ],
 "metadata": {
  "kernelspec": {
   "name": "python3",
   "language": "python",
   "display_name": "Python 3"
  },
  "language_info": {
   "codemirror_mode": {
    "name": "ipython",
    "version": 3
   },
   "file_extension": ".py",
   "mimetype": "text/x-python",
   "name": "python",
   "nbconvert_exporter": "python",
   "pygments_lexer": "ipython3",
   "version": "3.7.6"
  }
 },
 "nbformat": 4,
 "nbformat_minor": 1
}