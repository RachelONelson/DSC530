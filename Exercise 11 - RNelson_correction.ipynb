{
 "cells": [
  {
   "cell_type": "markdown",
   "metadata": {},
   "source": [
    "# Exercises 11-1, 11-3 and 11-4 Regression\n",
    "author: Rachel Nelson\n",
    "\n",
    "date: 10/31/2020\n",
    "\n",
    "class: DSC530-T303 Data Exploration and Analysis (2211-1)"
   ]
  },
  {
   "cell_type": "markdown",
   "metadata": {},
   "source": [
    "## Exercises"
   ]
  },
  {
   "cell_type": "markdown",
   "metadata": {},
   "source": [
    "**Exercise:** Suppose one of your co-workers is expecting a baby and you are participating in an office pool to\n",
    "predict the date of birth. Assuming that bets are placed during the 30th week of pregnancy, what variables could you\n",
    "use to make the best prediction? You should limit yourself to variables that are known before the birth, and likely to\n",
    "be available to the people in the pool."
   ]
  },
  {
   "cell_type": "code",
   "execution_count": 1,
   "metadata": {
    "pycharm": {
     "name": "#%% import all packages\n"
    }
   },
   "outputs": [],
   "source": [
    "import numpy as np\n",
    "import pandas as pd\n",
    "import thinkplot\n",
    "import thinkstats2\n",
    "import first\n",
    "import statsmodels.formula.api as smf\n",
    "import nsfg\n",
    "import regression\n",
    "import timeseries\n"
   ]
  },
  {
   "cell_type": "code",
   "execution_count": 2,
   "metadata": {},
   "outputs": [
    {
     "data": {
      "text/plain": "<class 'statsmodels.iolib.summary.Summary'>\n\"\"\"\n                            OLS Regression Results                            \n==============================================================================\nDep. Variable:               prglngth   R-squared:                       0.011\nModel:                            OLS   Adj. R-squared:                  0.011\nMethod:                 Least Squares   F-statistic:                     34.28\nDate:                Sun, 01 Nov 2020   Prob (F-statistic):           5.09e-22\nTime:                        16:30:01   Log-Likelihood:                -18247.\nNo. Observations:                8884   AIC:                         3.650e+04\nDf Residuals:                    8880   BIC:                         3.653e+04\nDf Model:                           3                                         \nCovariance Type:            nonrobust                                         \n=========================================================================================\n                            coef    std err          t      P>|t|      [0.025      0.975]\n-----------------------------------------------------------------------------------------\nIntercept                38.7617      0.039   1006.410      0.000      38.686      38.837\nbirthord == 1[T.True]     0.1015      0.040      2.528      0.011       0.023       0.180\nrace == 2[T.True]         0.1390      0.042      3.311      0.001       0.057       0.221\nnbrnaliv > 1[T.True]     -1.4944      0.164     -9.086      0.000      -1.817      -1.172\n==============================================================================\nOmnibus:                     1587.470   Durbin-Watson:                   1.619\nProb(Omnibus):                  0.000   Jarque-Bera (JB):             6160.751\nSkew:                          -0.852   Prob(JB):                         0.00\nKurtosis:                       6.707   Cond. No.                         10.9\n==============================================================================\n\nWarnings:\n[1] Standard Errors assume that the covariance matrix of the errors is correctly specified.\n\"\"\"",
      "text/html": "<table class=\"simpletable\">\n<caption>OLS Regression Results</caption>\n<tr>\n  <th>Dep. Variable:</th>        <td>prglngth</td>     <th>  R-squared:         </th> <td>   0.011</td> \n</tr>\n<tr>\n  <th>Model:</th>                   <td>OLS</td>       <th>  Adj. R-squared:    </th> <td>   0.011</td> \n</tr>\n<tr>\n  <th>Method:</th>             <td>Least Squares</td>  <th>  F-statistic:       </th> <td>   34.28</td> \n</tr>\n<tr>\n  <th>Date:</th>             <td>Sun, 01 Nov 2020</td> <th>  Prob (F-statistic):</th> <td>5.09e-22</td> \n</tr>\n<tr>\n  <th>Time:</th>                 <td>16:30:01</td>     <th>  Log-Likelihood:    </th> <td> -18247.</td> \n</tr>\n<tr>\n  <th>No. Observations:</th>      <td>  8884</td>      <th>  AIC:               </th> <td>3.650e+04</td>\n</tr>\n<tr>\n  <th>Df Residuals:</th>          <td>  8880</td>      <th>  BIC:               </th> <td>3.653e+04</td>\n</tr>\n<tr>\n  <th>Df Model:</th>              <td>     3</td>      <th>                     </th>     <td> </td>    \n</tr>\n<tr>\n  <th>Covariance Type:</th>      <td>nonrobust</td>    <th>                     </th>     <td> </td>    \n</tr>\n</table>\n<table class=\"simpletable\">\n<tr>\n            <td></td>               <th>coef</th>     <th>std err</th>      <th>t</th>      <th>P>|t|</th>  <th>[0.025</th>    <th>0.975]</th>  \n</tr>\n<tr>\n  <th>Intercept</th>             <td>   38.7617</td> <td>    0.039</td> <td> 1006.410</td> <td> 0.000</td> <td>   38.686</td> <td>   38.837</td>\n</tr>\n<tr>\n  <th>birthord == 1[T.True]</th> <td>    0.1015</td> <td>    0.040</td> <td>    2.528</td> <td> 0.011</td> <td>    0.023</td> <td>    0.180</td>\n</tr>\n<tr>\n  <th>race == 2[T.True]</th>     <td>    0.1390</td> <td>    0.042</td> <td>    3.311</td> <td> 0.001</td> <td>    0.057</td> <td>    0.221</td>\n</tr>\n<tr>\n  <th>nbrnaliv > 1[T.True]</th>  <td>   -1.4944</td> <td>    0.164</td> <td>   -9.086</td> <td> 0.000</td> <td>   -1.817</td> <td>   -1.172</td>\n</tr>\n</table>\n<table class=\"simpletable\">\n<tr>\n  <th>Omnibus:</th>       <td>1587.470</td> <th>  Durbin-Watson:     </th> <td>   1.619</td>\n</tr>\n<tr>\n  <th>Prob(Omnibus):</th>  <td> 0.000</td>  <th>  Jarque-Bera (JB):  </th> <td>6160.751</td>\n</tr>\n<tr>\n  <th>Skew:</th>           <td>-0.852</td>  <th>  Prob(JB):          </th> <td>    0.00</td>\n</tr>\n<tr>\n  <th>Kurtosis:</th>       <td> 6.707</td>  <th>  Cond. No.          </th> <td>    10.9</td>\n</tr>\n</table><br/><br/>Warnings:<br/>[1] Standard Errors assume that the covariance matrix of the errors is correctly specified."
     },
     "execution_count": 2,
     "metadata": {},
     "output_type": "execute_result"
    }
   ],
   "source": [
    "live, firsts, others = first.MakeFrames()\n",
    "\n",
    "# pregnancy lenght greater than 30\n",
    "live = live[live.prglngth>30]\n",
    "\n",
    "# Below are the variables that would impact the pregnancy length\n",
    "model = smf.ols('prglngth ~ birthord==1 + race==2 + nbrnaliv>1', data=live)\n",
    "results = model.fit()\n",
    "results.summary()"
   ]
  },
  {
   "cell_type": "markdown",
   "metadata": {
    "pycharm": {
     "name": "#%% md\n"
    }
   },
   "source": [
    "I am running a correlation matrix to see which variables are correlated to birth length based on live births > 30 weeks"
   ]
  },
  {
   "cell_type": "code",
   "execution_count": 3,
   "metadata": {
    "pycharm": {
     "name": "#%%\n"
    }
   },
   "outputs": [],
   "source": [
    "#Create a correlation matrix based on columns and pulled the top 5 correlated to pregnancy length\n",
    "df = pd.DataFrame(live,columns=['prglngth','pregordr','multbrth','wksgest','mosgest','babysex','babysex2','hpagelb','knewpreg','trimestr','priorsmk','postsmks','npostsmk','getprena','bgnprena','pnctrim','workpreg','workborn','didwork','matweeks','weeksdk','matleave','matchfound','stopduse','whystopd','whatmeth01','whatmeth02','whatmeth03','whatmeth04','resnouse','wantbold','probbabe','cnfrmno','timingok','toosoon_n','toosoon_p','wthpart1','wthpart2','feelinpg','hpwnold','timokhp','cohpbeg','cohpend','tellfath','whentell','tryscale','wantscal','whyprg1','whynouse1','whynouse2','whynouse3','anyusint','birthord','datend','agepreg','datecon','agecon','fmarout5','pmarpreg','rmarout6','fmarcon5','learnprg','pncarewk','paydeliv','lbw1','bfeedwks','maternlv','oldwantr','oldwantp','wantresp','wantpart','cmbirth','ager','agescrn','fmarital','rmarital','educat','hieduc','race','hispanic','hisprace','rcurpreg','pregnum','parity','insuranc','pubassis','poverty','laborfor','religion','metro','brnout','yrstrus','prglngth_i','datend_i','agepreg_i','datecon_i','agecon_i','fmarout5_i','pmarpreg_i','rmarout6_i','fmarcon5_i','learnprg_i','pncarewk_i','paydeliv_i','lbw1_i','bfeedwks_i','maternlv_i','oldwantr_i','oldwantp_i','wantresp_i','wantpart_i','hieduc_i','hispanic_i','hisprace_i','parity_i','poverty_i','laborfor_i',  'sest'])\n",
    "corrMatrix = df.corr()\n",
    "corrMatrix = corrMatrix.sort_values(by=['prglngth'], ascending=True)\n",
    "corrMatrix.to_csv(r'PregCorrMatrix.csv', index = True)\n",
    "\n",
    "\n"
   ]
  },
  {
   "cell_type": "markdown",
   "metadata": {},
   "source": [
    "Found the top values correlated to pregnancy length after reviewing for any values that were not likely to be known prior to birth:\n",
    "* whatmeth04\t-0.507394663\n",
    "* whynouse3\t-0.331744401\n",
    "* multbrth\t0.418335713\n",
    "* pnctrim\t0.457939666\n",
    "* weeksdk\t0.552054629"
   ]
  },
  {
   "cell_type": "markdown",
   "metadata": {},
   "source": [
    "the best indicator i could find that would work in the formula was if it was a multibirth, which i added to the formula"
   ]
  },
  {
   "cell_type": "markdown",
   "metadata": {},
   "source": [
    "**Exercise 11.3:** If the quantity you want to predict is a count, you can use Poisson regression, which is implemented in\n",
    "StatsModels with a function called `poisson`. It works the same way as `ols` and `logit`. As an exercise, let’s use it\n",
    "to predict how many children a woman has born; in the NSFG dataset, this variable is called `numbabes`.\n",
    "\n",
    "Suppose you meet a woman who is 35 years old, black, and a college graduate whose annual household income exceeds\n",
    "$75,000. How many children would you predict she has born?"
   ]
  },
  {
   "cell_type": "code",
   "execution_count": 4,
   "metadata": {
    "pycharm": {
     "name": "#%%\n"
    }
   },
   "outputs": [],
   "source": [
    "live, firsts, others = first.MakeFrames()\n",
    "live = live[live.prglngth>30]\n",
    "resp = nsfg.ReadFemResp()\n",
    "resp.index = resp.caseid\n",
    "\n",
    "# join tables using caseid\n",
    "join = live.join(resp, on='caseid', rsuffix='_r')\n",
    "\n",
    "# replace with NaN in numbabes column\n",
    "join.numbabes.replace([97], np.nan, inplace=True)    \n",
    "join['age2'] = join.age_r**2    "
   ]
  },
  {
   "cell_type": "code",
   "execution_count": 5,
   "metadata": {
    "pycharm": {
     "name": "#%%\n"
    }
   },
   "outputs": [
    {
     "name": "stdout",
     "output_type": "stream",
     "text": [
      "Optimization terminated successfully.\n",
      "         Current function value: 1.677002\n",
      "         Iterations 7\n"
     ]
    },
    {
     "data": {
      "text/plain": "<class 'statsmodels.iolib.summary.Summary'>\n\"\"\"\n                          Poisson Regression Results                          \n==============================================================================\nDep. Variable:               numbabes   No. Observations:                 8884\nModel:                        Poisson   Df Residuals:                     8877\nMethod:                           MLE   Df Model:                            6\nDate:                Sun, 01 Nov 2020   Pseudo R-squ.:                 0.03686\nTime:                        17:07:30   Log-Likelihood:                -14898.\nconverged:                       True   LL-Null:                       -15469.\nCovariance Type:            nonrobust   LLR p-value:                3.681e-243\n================================================================================\n                   coef    std err          z      P>|z|      [0.025      0.975]\n--------------------------------------------------------------------------------\nIntercept       -1.0324      0.169     -6.098      0.000      -1.364      -0.701\nC(race)[T.2]    -0.1401      0.015     -9.479      0.000      -0.169      -0.111\nC(race)[T.3]    -0.0991      0.025     -4.029      0.000      -0.147      -0.051\nage_r            0.1556      0.010     15.006      0.000       0.135       0.176\nage2            -0.0020      0.000    -13.102      0.000      -0.002      -0.002\ntotincr         -0.0187      0.002     -9.830      0.000      -0.022      -0.015\neducat          -0.0471      0.003    -16.076      0.000      -0.053      -0.041\n================================================================================\n\"\"\"",
      "text/html": "<table class=\"simpletable\">\n<caption>Poisson Regression Results</caption>\n<tr>\n  <th>Dep. Variable:</th>       <td>numbabes</td>     <th>  No. Observations:  </th>   <td>  8884</td>  \n</tr>\n<tr>\n  <th>Model:</th>                <td>Poisson</td>     <th>  Df Residuals:      </th>   <td>  8877</td>  \n</tr>\n<tr>\n  <th>Method:</th>                 <td>MLE</td>       <th>  Df Model:          </th>   <td>     6</td>  \n</tr>\n<tr>\n  <th>Date:</th>            <td>Sun, 01 Nov 2020</td> <th>  Pseudo R-squ.:     </th>   <td>0.03686</td> \n</tr>\n<tr>\n  <th>Time:</th>                <td>17:07:30</td>     <th>  Log-Likelihood:    </th>  <td> -14898.</td> \n</tr>\n<tr>\n  <th>converged:</th>             <td>True</td>       <th>  LL-Null:           </th>  <td> -15469.</td> \n</tr>\n<tr>\n  <th>Covariance Type:</th>     <td>nonrobust</td>    <th>  LLR p-value:       </th> <td>3.681e-243</td>\n</tr>\n</table>\n<table class=\"simpletable\">\n<tr>\n        <td></td>          <th>coef</th>     <th>std err</th>      <th>z</th>      <th>P>|z|</th>  <th>[0.025</th>    <th>0.975]</th>  \n</tr>\n<tr>\n  <th>Intercept</th>    <td>   -1.0324</td> <td>    0.169</td> <td>   -6.098</td> <td> 0.000</td> <td>   -1.364</td> <td>   -0.701</td>\n</tr>\n<tr>\n  <th>C(race)[T.2]</th> <td>   -0.1401</td> <td>    0.015</td> <td>   -9.479</td> <td> 0.000</td> <td>   -0.169</td> <td>   -0.111</td>\n</tr>\n<tr>\n  <th>C(race)[T.3]</th> <td>   -0.0991</td> <td>    0.025</td> <td>   -4.029</td> <td> 0.000</td> <td>   -0.147</td> <td>   -0.051</td>\n</tr>\n<tr>\n  <th>age_r</th>        <td>    0.1556</td> <td>    0.010</td> <td>   15.006</td> <td> 0.000</td> <td>    0.135</td> <td>    0.176</td>\n</tr>\n<tr>\n  <th>age2</th>         <td>   -0.0020</td> <td>    0.000</td> <td>  -13.102</td> <td> 0.000</td> <td>   -0.002</td> <td>   -0.002</td>\n</tr>\n<tr>\n  <th>totincr</th>      <td>   -0.0187</td> <td>    0.002</td> <td>   -9.830</td> <td> 0.000</td> <td>   -0.022</td> <td>   -0.015</td>\n</tr>\n<tr>\n  <th>educat</th>       <td>   -0.0471</td> <td>    0.003</td> <td>  -16.076</td> <td> 0.000</td> <td>   -0.053</td> <td>   -0.041</td>\n</tr>\n</table>"
     },
     "execution_count": 5,
     "metadata": {},
     "output_type": "execute_result"
    }
   ],
   "source": [
    "formula='numbabes ~ age_r + age2 + C(race) + totincr + educat'\n",
    "\n",
    "# poisson regression\n",
    "model = smf.poisson(formula, data=join).fit()       \n",
    "model.summary() "
   ]
  },
  {
   "cell_type": "markdown",
   "metadata": {},
   "source": [
    "Now we can predict the number of children for a woman who is 35 years old, black, and a college\n",
    "graduate whose annual household income exceeds $75,000"
   ]
  },
  {
   "cell_type": "code",
   "execution_count": 6,
   "metadata": {
    "pycharm": {
     "name": "#%%\n"
    }
   },
   "outputs": [
    {
     "data": {
      "text/plain": "0    2.496802\ndtype: float64"
     },
     "execution_count": 6,
     "metadata": {},
     "output_type": "execute_result"
    }
   ],
   "source": [
    "# Suppose you meet a who is 35 years old, black, and a college graduate whose annual household income exceeds $75,000.\n",
    "# How many children would you predict she has born?\n",
    "\n",
    "columns = ['age_r', 'age2', 'age3', 'race', 'totincr', 'educat']  \n",
    "\n",
    "# age_r=35, age2=35**2, age3=35**3, race=1 (black), totincr=14(range of income), educat=16(graduate)\n",
    "new = pd.DataFrame([[35, 35**2, 35**3, 1, 14, 16]], columns=columns) \n",
    "\n",
    "\"\"\"Pedicted number of children is 2 to 3.\"\"\"\n",
    "model.predict(new)"
   ]
  },
  {
   "cell_type": "markdown",
   "metadata": {},
   "source": [
    "**Exercise 11.4:** If the quantity you want to predict is categorical, you can use multinomial logistic regression,\n",
    "which is implemented in StatsModels with a function called `mnlogit`. As an exercise, let’s use it to guess whether\n",
    "a woman is married, co-habitating, widowed, divorced, separated, or never married; in the NSFG dataset, marital status\n",
    "is encoded in a variable called `rmarital`.\n",
    "\n",
    "Suppose you meet a woman who is 25 years old, white, and a high school graduate whose annual household income is\n",
    "about $45,000. What is the probability that she is married, co-habitating, etc?"
   ]
  },
  {
   "cell_type": "code",
   "execution_count": 7,
   "metadata": {},
   "outputs": [],
   "source": [
    "live, firsts, others = first.MakeFrames()\n",
    "live = live[live.prglngth>30]\n",
    "resp = nsfg.ReadFemResp()\n",
    "resp.index = resp.caseid\n",
    "\n",
    "# join tables using caseid\n",
    "join = live.join(resp, on='caseid', rsuffix='_r')\n",
    "\n",
    "# replace with NaN in numbabes column\n",
    "join.numbabes.replace([97], np.nan, inplace=True)    \n",
    "join['age2'] = join.age_r**2   "
   ]
  },
  {
   "cell_type": "code",
   "execution_count": 8,
   "metadata": {},
   "outputs": [
    {
     "name": "stdout",
     "output_type": "stream",
     "text": [
      "Optimization terminated successfully.\n",
      "         Current function value: 1.084053\n",
      "         Iterations 8\n"
     ]
    },
    {
     "data": {
      "text/plain": "<class 'statsmodels.iolib.summary.Summary'>\n\"\"\"\n                          MNLogit Regression Results                          \n==============================================================================\nDep. Variable:               rmarital   No. Observations:                 8884\nModel:                        MNLogit   Df Residuals:                     8849\nMethod:                           MLE   Df Model:                           30\nDate:                Sun, 01 Nov 2020   Pseudo R-squ.:                  0.1682\nTime:                        17:08:01   Log-Likelihood:                -9630.7\nconverged:                       True   LL-Null:                       -11579.\nCovariance Type:            nonrobust   LLR p-value:                     0.000\n================================================================================\n  rmarital=2       coef    std err          z      P>|z|      [0.025      0.975]\n--------------------------------------------------------------------------------\nIntercept        9.0156      0.805     11.199      0.000       7.438      10.593\nC(race)[T.2]    -0.9237      0.089    -10.418      0.000      -1.097      -0.750\nC(race)[T.3]    -0.6179      0.136     -4.536      0.000      -0.885      -0.351\nage_r           -0.3635      0.051     -7.150      0.000      -0.463      -0.264\nage2             0.0048      0.001      6.103      0.000       0.003       0.006\ntotincr         -0.1310      0.012    -11.337      0.000      -0.154      -0.108\neducat          -0.1953      0.019    -10.424      0.000      -0.232      -0.159\n--------------------------------------------------------------------------------\n  rmarital=3       coef    std err          z      P>|z|      [0.025      0.975]\n--------------------------------------------------------------------------------\nIntercept        2.9570      3.020      0.979      0.328      -2.963       8.877\nC(race)[T.2]    -0.4411      0.237     -1.863      0.062      -0.905       0.023\nC(race)[T.3]     0.0591      0.336      0.176      0.860      -0.600       0.718\nage_r           -0.3177      0.177     -1.798      0.072      -0.664       0.029\nage2             0.0064      0.003      2.528      0.011       0.001       0.011\ntotincr         -0.3258      0.032    -10.175      0.000      -0.389      -0.263\neducat          -0.0991      0.048     -2.050      0.040      -0.194      -0.004\n--------------------------------------------------------------------------------\n  rmarital=4       coef    std err          z      P>|z|      [0.025      0.975]\n--------------------------------------------------------------------------------\nIntercept       -3.5238      1.205     -2.924      0.003      -5.886      -1.162\nC(race)[T.2]    -0.3213      0.093     -3.445      0.001      -0.504      -0.139\nC(race)[T.3]    -0.7706      0.171     -4.509      0.000      -1.106      -0.436\nage_r            0.1155      0.071      1.626      0.104      -0.024       0.255\nage2            -0.0007      0.001     -0.701      0.483      -0.003       0.001\ntotincr         -0.2276      0.012    -19.621      0.000      -0.250      -0.205\neducat           0.0667      0.017      3.995      0.000       0.034       0.099\n--------------------------------------------------------------------------------\n  rmarital=5       coef    std err          z      P>|z|      [0.025      0.975]\n--------------------------------------------------------------------------------\nIntercept       -2.8963      1.305     -2.220      0.026      -5.453      -0.339\nC(race)[T.2]    -1.0407      0.104    -10.038      0.000      -1.244      -0.837\nC(race)[T.3]    -0.5661      0.156     -3.635      0.000      -0.871      -0.261\nage_r            0.2411      0.079      3.038      0.002       0.086       0.397\nage2            -0.0035      0.001     -2.977      0.003      -0.006      -0.001\ntotincr         -0.2932      0.015    -20.159      0.000      -0.322      -0.265\neducat          -0.0174      0.021     -0.813      0.416      -0.059       0.025\n--------------------------------------------------------------------------------\n  rmarital=6       coef    std err          z      P>|z|      [0.025      0.975]\n--------------------------------------------------------------------------------\nIntercept        8.0533      0.814      9.890      0.000       6.457       9.649\nC(race)[T.2]    -2.1871      0.080    -27.211      0.000      -2.345      -2.030\nC(race)[T.3]    -1.9611      0.138    -14.188      0.000      -2.232      -1.690\nage_r           -0.2127      0.052     -4.122      0.000      -0.314      -0.112\nage2             0.0019      0.001      2.321      0.020       0.000       0.003\ntotincr         -0.2945      0.012    -25.320      0.000      -0.317      -0.272\neducat          -0.0742      0.018     -4.169      0.000      -0.109      -0.039\n================================================================================\n\"\"\"",
      "text/html": "<table class=\"simpletable\">\n<caption>MNLogit Regression Results</caption>\n<tr>\n  <th>Dep. Variable:</th>       <td>rmarital</td>     <th>  No. Observations:  </th>  <td>  8884</td> \n</tr>\n<tr>\n  <th>Model:</th>                <td>MNLogit</td>     <th>  Df Residuals:      </th>  <td>  8849</td> \n</tr>\n<tr>\n  <th>Method:</th>                 <td>MLE</td>       <th>  Df Model:          </th>  <td>    30</td> \n</tr>\n<tr>\n  <th>Date:</th>            <td>Sun, 01 Nov 2020</td> <th>  Pseudo R-squ.:     </th>  <td>0.1682</td> \n</tr>\n<tr>\n  <th>Time:</th>                <td>17:08:01</td>     <th>  Log-Likelihood:    </th> <td> -9630.7</td>\n</tr>\n<tr>\n  <th>converged:</th>             <td>True</td>       <th>  LL-Null:           </th> <td> -11579.</td>\n</tr>\n<tr>\n  <th>Covariance Type:</th>     <td>nonrobust</td>    <th>  LLR p-value:       </th>  <td> 0.000</td> \n</tr>\n</table>\n<table class=\"simpletable\">\n<tr>\n   <th>rmarital=2</th>     <th>coef</th>     <th>std err</th>      <th>z</th>      <th>P>|z|</th>  <th>[0.025</th>    <th>0.975]</th>  \n</tr>\n<tr>\n  <th>Intercept</th>    <td>    9.0156</td> <td>    0.805</td> <td>   11.199</td> <td> 0.000</td> <td>    7.438</td> <td>   10.593</td>\n</tr>\n<tr>\n  <th>C(race)[T.2]</th> <td>   -0.9237</td> <td>    0.089</td> <td>  -10.418</td> <td> 0.000</td> <td>   -1.097</td> <td>   -0.750</td>\n</tr>\n<tr>\n  <th>C(race)[T.3]</th> <td>   -0.6179</td> <td>    0.136</td> <td>   -4.536</td> <td> 0.000</td> <td>   -0.885</td> <td>   -0.351</td>\n</tr>\n<tr>\n  <th>age_r</th>        <td>   -0.3635</td> <td>    0.051</td> <td>   -7.150</td> <td> 0.000</td> <td>   -0.463</td> <td>   -0.264</td>\n</tr>\n<tr>\n  <th>age2</th>         <td>    0.0048</td> <td>    0.001</td> <td>    6.103</td> <td> 0.000</td> <td>    0.003</td> <td>    0.006</td>\n</tr>\n<tr>\n  <th>totincr</th>      <td>   -0.1310</td> <td>    0.012</td> <td>  -11.337</td> <td> 0.000</td> <td>   -0.154</td> <td>   -0.108</td>\n</tr>\n<tr>\n  <th>educat</th>       <td>   -0.1953</td> <td>    0.019</td> <td>  -10.424</td> <td> 0.000</td> <td>   -0.232</td> <td>   -0.159</td>\n</tr>\n<tr>\n   <th>rmarital=3</th>     <th>coef</th>     <th>std err</th>      <th>z</th>      <th>P>|z|</th>  <th>[0.025</th>    <th>0.975]</th>  \n</tr>\n<tr>\n  <th>Intercept</th>    <td>    2.9570</td> <td>    3.020</td> <td>    0.979</td> <td> 0.328</td> <td>   -2.963</td> <td>    8.877</td>\n</tr>\n<tr>\n  <th>C(race)[T.2]</th> <td>   -0.4411</td> <td>    0.237</td> <td>   -1.863</td> <td> 0.062</td> <td>   -0.905</td> <td>    0.023</td>\n</tr>\n<tr>\n  <th>C(race)[T.3]</th> <td>    0.0591</td> <td>    0.336</td> <td>    0.176</td> <td> 0.860</td> <td>   -0.600</td> <td>    0.718</td>\n</tr>\n<tr>\n  <th>age_r</th>        <td>   -0.3177</td> <td>    0.177</td> <td>   -1.798</td> <td> 0.072</td> <td>   -0.664</td> <td>    0.029</td>\n</tr>\n<tr>\n  <th>age2</th>         <td>    0.0064</td> <td>    0.003</td> <td>    2.528</td> <td> 0.011</td> <td>    0.001</td> <td>    0.011</td>\n</tr>\n<tr>\n  <th>totincr</th>      <td>   -0.3258</td> <td>    0.032</td> <td>  -10.175</td> <td> 0.000</td> <td>   -0.389</td> <td>   -0.263</td>\n</tr>\n<tr>\n  <th>educat</th>       <td>   -0.0991</td> <td>    0.048</td> <td>   -2.050</td> <td> 0.040</td> <td>   -0.194</td> <td>   -0.004</td>\n</tr>\n<tr>\n   <th>rmarital=4</th>     <th>coef</th>     <th>std err</th>      <th>z</th>      <th>P>|z|</th>  <th>[0.025</th>    <th>0.975]</th>  \n</tr>\n<tr>\n  <th>Intercept</th>    <td>   -3.5238</td> <td>    1.205</td> <td>   -2.924</td> <td> 0.003</td> <td>   -5.886</td> <td>   -1.162</td>\n</tr>\n<tr>\n  <th>C(race)[T.2]</th> <td>   -0.3213</td> <td>    0.093</td> <td>   -3.445</td> <td> 0.001</td> <td>   -0.504</td> <td>   -0.139</td>\n</tr>\n<tr>\n  <th>C(race)[T.3]</th> <td>   -0.7706</td> <td>    0.171</td> <td>   -4.509</td> <td> 0.000</td> <td>   -1.106</td> <td>   -0.436</td>\n</tr>\n<tr>\n  <th>age_r</th>        <td>    0.1155</td> <td>    0.071</td> <td>    1.626</td> <td> 0.104</td> <td>   -0.024</td> <td>    0.255</td>\n</tr>\n<tr>\n  <th>age2</th>         <td>   -0.0007</td> <td>    0.001</td> <td>   -0.701</td> <td> 0.483</td> <td>   -0.003</td> <td>    0.001</td>\n</tr>\n<tr>\n  <th>totincr</th>      <td>   -0.2276</td> <td>    0.012</td> <td>  -19.621</td> <td> 0.000</td> <td>   -0.250</td> <td>   -0.205</td>\n</tr>\n<tr>\n  <th>educat</th>       <td>    0.0667</td> <td>    0.017</td> <td>    3.995</td> <td> 0.000</td> <td>    0.034</td> <td>    0.099</td>\n</tr>\n<tr>\n   <th>rmarital=5</th>     <th>coef</th>     <th>std err</th>      <th>z</th>      <th>P>|z|</th>  <th>[0.025</th>    <th>0.975]</th>  \n</tr>\n<tr>\n  <th>Intercept</th>    <td>   -2.8963</td> <td>    1.305</td> <td>   -2.220</td> <td> 0.026</td> <td>   -5.453</td> <td>   -0.339</td>\n</tr>\n<tr>\n  <th>C(race)[T.2]</th> <td>   -1.0407</td> <td>    0.104</td> <td>  -10.038</td> <td> 0.000</td> <td>   -1.244</td> <td>   -0.837</td>\n</tr>\n<tr>\n  <th>C(race)[T.3]</th> <td>   -0.5661</td> <td>    0.156</td> <td>   -3.635</td> <td> 0.000</td> <td>   -0.871</td> <td>   -0.261</td>\n</tr>\n<tr>\n  <th>age_r</th>        <td>    0.2411</td> <td>    0.079</td> <td>    3.038</td> <td> 0.002</td> <td>    0.086</td> <td>    0.397</td>\n</tr>\n<tr>\n  <th>age2</th>         <td>   -0.0035</td> <td>    0.001</td> <td>   -2.977</td> <td> 0.003</td> <td>   -0.006</td> <td>   -0.001</td>\n</tr>\n<tr>\n  <th>totincr</th>      <td>   -0.2932</td> <td>    0.015</td> <td>  -20.159</td> <td> 0.000</td> <td>   -0.322</td> <td>   -0.265</td>\n</tr>\n<tr>\n  <th>educat</th>       <td>   -0.0174</td> <td>    0.021</td> <td>   -0.813</td> <td> 0.416</td> <td>   -0.059</td> <td>    0.025</td>\n</tr>\n<tr>\n   <th>rmarital=6</th>     <th>coef</th>     <th>std err</th>      <th>z</th>      <th>P>|z|</th>  <th>[0.025</th>    <th>0.975]</th>  \n</tr>\n<tr>\n  <th>Intercept</th>    <td>    8.0533</td> <td>    0.814</td> <td>    9.890</td> <td> 0.000</td> <td>    6.457</td> <td>    9.649</td>\n</tr>\n<tr>\n  <th>C(race)[T.2]</th> <td>   -2.1871</td> <td>    0.080</td> <td>  -27.211</td> <td> 0.000</td> <td>   -2.345</td> <td>   -2.030</td>\n</tr>\n<tr>\n  <th>C(race)[T.3]</th> <td>   -1.9611</td> <td>    0.138</td> <td>  -14.188</td> <td> 0.000</td> <td>   -2.232</td> <td>   -1.690</td>\n</tr>\n<tr>\n  <th>age_r</th>        <td>   -0.2127</td> <td>    0.052</td> <td>   -4.122</td> <td> 0.000</td> <td>   -0.314</td> <td>   -0.112</td>\n</tr>\n<tr>\n  <th>age2</th>         <td>    0.0019</td> <td>    0.001</td> <td>    2.321</td> <td> 0.020</td> <td>    0.000</td> <td>    0.003</td>\n</tr>\n<tr>\n  <th>totincr</th>      <td>   -0.2945</td> <td>    0.012</td> <td>  -25.320</td> <td> 0.000</td> <td>   -0.317</td> <td>   -0.272</td>\n</tr>\n<tr>\n  <th>educat</th>       <td>   -0.0742</td> <td>    0.018</td> <td>   -4.169</td> <td> 0.000</td> <td>   -0.109</td> <td>   -0.039</td>\n</tr>\n</table>"
     },
     "execution_count": 8,
     "metadata": {},
     "output_type": "execute_result"
    }
   ],
   "source": [
    "formula='rmarital ~ age_r + age2 + C(race) + totincr + educat'\n",
    "\n",
    "# multinomial logistic regression\n",
    "model = smf.mnlogit(formula, data=join).fit()       \n",
    "model.summary()  "
   ]
  },
  {
   "cell_type": "markdown",
   "metadata": {},
   "source": [
    "Make a prediction for a woman who is 25 years old, white, and a high\n",
    "school graduate whose annual household income is about $45,000."
   ]
  },
  {
   "cell_type": "code",
   "execution_count": 9,
   "metadata": {
    "pycharm": {
     "name": "#%%\n"
    }
   },
   "outputs": [
    {
     "data": {
      "text/plain": "          0         1         2         3         4         5\n0  0.750028  0.126397  0.001564  0.033403  0.021485  0.067122",
      "text/html": "<div>\n<style scoped>\n    .dataframe tbody tr th:only-of-type {\n        vertical-align: middle;\n    }\n\n    .dataframe tbody tr th {\n        vertical-align: top;\n    }\n\n    .dataframe thead th {\n        text-align: right;\n    }\n</style>\n<table border=\"1\" class=\"dataframe\">\n  <thead>\n    <tr style=\"text-align: right;\">\n      <th></th>\n      <th>0</th>\n      <th>1</th>\n      <th>2</th>\n      <th>3</th>\n      <th>4</th>\n      <th>5</th>\n    </tr>\n  </thead>\n  <tbody>\n    <tr>\n      <th>0</th>\n      <td>0.750028</td>\n      <td>0.126397</td>\n      <td>0.001564</td>\n      <td>0.033403</td>\n      <td>0.021485</td>\n      <td>0.067122</td>\n    </tr>\n  </tbody>\n</table>\n</div>"
     },
     "execution_count": 9,
     "metadata": {},
     "output_type": "execute_result"
    }
   ],
   "source": [
    "# Suppose you meet a woman who is 25 years old, white, and a high school graduate whose annual household income is about\n",
    "# $45,000. What is the probability that she is married, cohabitating, etc?\n",
    "\n",
    "columns = ['age_r', 'age2', 'race', 'totincr', 'educat']  \n",
    "\n",
    "# age_r=25, age2=25**2, race=2 (white), totincr=11(range of income), educat=12(school graduate)\n",
    "new = pd.DataFrame([[25, 25**2, 2, 11, 12]], columns=columns) \n",
    "\n",
    "model.predict(new)"
   ]
  },
  {
   "cell_type": "markdown",
   "metadata": {
    "pycharm": {
     "name": "#%% md\n"
    }
   },
   "source": [
    "*Probability that she is married is about 75% and 13% co-habitating. *"
   ]
  }
 ],
 "metadata": {
  "kernelspec": {
   "name": "python3",
   "language": "python",
   "display_name": "Python 3"
  },
  "language_info": {
   "codemirror_mode": {
    "name": "ipython",
    "version": 3
   },
   "file_extension": ".py",
   "mimetype": "text/x-python",
   "name": "python",
   "nbconvert_exporter": "python",
   "pygments_lexer": "ipython3",
   "version": "3.7.6"
  }
 },
 "nbformat": 4,
 "nbformat_minor": 1
}